{
 "cells": [
  {
   "cell_type": "code",
   "execution_count": 0,
   "metadata": {
    "application/vnd.databricks.v1+cell": {
     "cellMetadata": {
      "byteLimit": 2048000,
      "rowLimit": 10000
     },
     "inputWidgets": {},
     "nuid": "a6e67900-fb70-404f-ac21-160a65afc0b5",
     "showTitle": false,
     "title": ""
    }
   },
   "outputs": [
    {
     "output_type": "display_data",
     "data": {
      "text/html": [
       "<style scoped>\n",
       "  .table-result-container {\n",
       "    max-height: 300px;\n",
       "    overflow: auto;\n",
       "  }\n",
       "  table, th, td {\n",
       "    border: 1px solid black;\n",
       "    border-collapse: collapse;\n",
       "  }\n",
       "  th, td {\n",
       "    padding: 5px;\n",
       "  }\n",
       "  th {\n",
       "    text-align: left;\n",
       "  }\n",
       "</style><div class='table-result-container'><table class='table-result'><thead style='background-color: white'><tr><th>empid</th><th>employee_name</th><th>years_exp</th><th>in_project</th><th>project_name</th><th>benchcode</th><th>benchdate</th><th>leave_plan_days</th><th>salary_month</th><th>certification</th><th>certification_completetion_date</th><th>certification_completed_or_not</th></tr></thead><tbody><tr><td>1</td><td>EID_22713</td><td>13</td><td>yes</td><td>apac</td><td>null</td><td>null</td><td>null</td><td>150000</td><td>null</td><td>null</td><td>null</td></tr><tr><td>2</td><td>EID_9658</td><td>12</td><td>no</td><td>null</td><td>b1001</td><td>2023-11-01</td><td>5</td><td>200000</td><td>databricks professional</td><td>2023-11-15</td><td>yes</td></tr><tr><td>3</td><td>EID_22203</td><td>13</td><td>yes</td><td>apac</td><td>null</td><td>null</td><td>null</td><td>300000</td><td>null</td><td>null</td><td>null</td></tr><tr><td>4</td><td>EID_7652</td><td>10</td><td>yes</td><td>apac</td><td>null</td><td>null</td><td>null</td><td>120000</td><td>null</td><td>null</td><td>null</td></tr><tr><td>5</td><td>EID_6516</td><td>9</td><td>No</td><td>null</td><td>b1001</td><td>2023-10-01</td><td>0</td><td>130000</td><td>databricks associate</td><td>2023-10-15</td><td>no</td></tr><tr><td>6</td><td>EID_20283</td><td>10</td><td>yes</td><td>apac</td><td>null</td><td>null</td><td>null</td><td>150000</td><td>null</td><td>null</td><td>null</td></tr><tr><td>7</td><td>EID_21014</td><td>8</td><td>no</td><td>null</td><td>b1001</td><td>2023-10-21</td><td>10</td><td>200000</td><td>databricks associate</td><td>2023-11-06</td><td>no</td></tr><tr><td>8</td><td>EID_7693</td><td>12</td><td>yes</td><td>apac</td><td>null</td><td>null</td><td>null</td><td>300000</td><td>null</td><td>null</td><td>null</td></tr><tr><td>9</td><td>EID_13232</td><td>18</td><td>yes</td><td>apac</td><td>null</td><td>null</td><td>null</td><td>120000</td><td>null</td><td>null</td><td>null</td></tr><tr><td>10</td><td>EID_6515</td><td>18</td><td>No</td><td>null</td><td>b1001</td><td>2023-09-01</td><td>0</td><td>130000</td><td>databricks professional</td><td>2023-09-15</td><td>yes</td></tr><tr><td>11</td><td>EID_13639</td><td>6</td><td>yes</td><td>product</td><td>null</td><td>null</td><td>null</td><td>120000</td><td>null</td><td>null</td><td>null</td></tr><tr><td>12</td><td>EID_14669</td><td>6</td><td>no</td><td>null</td><td>b1001</td><td>2023-09-20</td><td>12</td><td>100000</td><td>azure dp203</td><td>2023-10-30</td><td>yes</td></tr><tr><td>13</td><td>EID_16537</td><td>4</td><td>yes</td><td>product</td><td>null</td><td>null</td><td>null</td><td>120000</td><td>null</td><td>null</td><td>null</td></tr><tr><td>14</td><td>EID_5782</td><td>4</td><td>yes</td><td>product</td><td>null</td><td>null</td><td>null</td><td>130000</td><td>null</td><td>null</td><td>null</td></tr><tr><td>15</td><td>EID_20157</td><td>2</td><td>No</td><td>null</td><td>b1001</td><td>2023-07-07</td><td>30</td><td>120000</td><td>dp900</td><td>2023-07-15</td><td>yes</td></tr><tr><td>16</td><td>EID_1855</td><td>5</td><td>yes</td><td>product</td><td>null</td><td>null</td><td>null</td><td>100000</td><td>null</td><td>null</td><td>null</td></tr><tr><td>17</td><td>EID_20748</td><td>1</td><td>no</td><td>null</td><td>b1001</td><td>2023-08-15</td><td>5</td><td>150000</td><td>dp900</td><td>2023-08-22</td><td>no</td></tr><tr><td>18</td><td>EID_23179</td><td>7</td><td>yes</td><td>product</td><td>null</td><td>null</td><td>null</td><td>200000</td><td>null</td><td>null</td><td>null</td></tr><tr><td>19</td><td>EID_12838</td><td>8</td><td>yes</td><td>product</td><td>null</td><td>null</td><td>null</td><td>200000</td><td>null</td><td>null</td><td>null</td></tr></tbody></table></div>"
      ]
     },
     "metadata": {
      "application/vnd.databricks.v1+output": {
       "addedWidgets": {},
       "aggData": [],
       "aggError": "",
       "aggOverflow": false,
       "aggSchema": [],
       "aggSeriesLimitReached": false,
       "aggType": "",
       "arguments": {},
       "columnCustomDisplayInfos": {},
       "data": [
        [
         1,
         "EID_22713",
         13,
         "yes",
         "apac",
         null,
         null,
         null,
         150000,
         null,
         null,
         null
        ],
        [
         2,
         "EID_9658",
         12,
         "no",
         null,
         "b1001",
         "2023-11-01",
         5,
         200000,
         "databricks professional",
         "2023-11-15",
         "yes"
        ],
        [
         3,
         "EID_22203",
         13,
         "yes",
         "apac",
         null,
         null,
         null,
         300000,
         null,
         null,
         null
        ],
        [
         4,
         "EID_7652",
         10,
         "yes",
         "apac",
         null,
         null,
         null,
         120000,
         null,
         null,
         null
        ],
        [
         5,
         "EID_6516",
         9,
         "No",
         null,
         "b1001",
         "2023-10-01",
         0,
         130000,
         "databricks associate",
         "2023-10-15",
         "no"
        ],
        [
         6,
         "EID_20283",
         10,
         "yes",
         "apac",
         null,
         null,
         null,
         150000,
         null,
         null,
         null
        ],
        [
         7,
         "EID_21014",
         8,
         "no",
         null,
         "b1001",
         "2023-10-21",
         10,
         200000,
         "databricks associate",
         "2023-11-06",
         "no"
        ],
        [
         8,
         "EID_7693",
         12,
         "yes",
         "apac",
         null,
         null,
         null,
         300000,
         null,
         null,
         null
        ],
        [
         9,
         "EID_13232",
         18,
         "yes",
         "apac",
         null,
         null,
         null,
         120000,
         null,
         null,
         null
        ],
        [
         10,
         "EID_6515",
         18,
         "No",
         null,
         "b1001",
         "2023-09-01",
         0,
         130000,
         "databricks professional",
         "2023-09-15",
         "yes"
        ],
        [
         11,
         "EID_13639",
         6,
         "yes",
         "product",
         null,
         null,
         null,
         120000,
         null,
         null,
         null
        ],
        [
         12,
         "EID_14669",
         6,
         "no",
         null,
         "b1001",
         "2023-09-20",
         12,
         100000,
         "azure dp203",
         "2023-10-30",
         "yes"
        ],
        [
         13,
         "EID_16537",
         4,
         "yes",
         "product",
         null,
         null,
         null,
         120000,
         null,
         null,
         null
        ],
        [
         14,
         "EID_5782",
         4,
         "yes",
         "product",
         null,
         null,
         null,
         130000,
         null,
         null,
         null
        ],
        [
         15,
         "EID_20157",
         2,
         "No",
         null,
         "b1001",
         "2023-07-07",
         30,
         120000,
         "dp900",
         "2023-07-15",
         "yes"
        ],
        [
         16,
         "EID_1855",
         5,
         "yes",
         "product",
         null,
         null,
         null,
         100000,
         null,
         null,
         null
        ],
        [
         17,
         "EID_20748",
         1,
         "no",
         null,
         "b1001",
         "2023-08-15",
         5,
         150000,
         "dp900",
         "2023-08-22",
         "no"
        ],
        [
         18,
         "EID_23179",
         7,
         "yes",
         "product",
         null,
         null,
         null,
         200000,
         null,
         null,
         null
        ],
        [
         19,
         "EID_12838",
         8,
         "yes",
         "product",
         null,
         null,
         null,
         200000,
         null,
         null,
         null
        ]
       ],
       "datasetInfos": [],
       "dbfsResultPath": null,
       "isJsonSchema": true,
       "metadata": {},
       "overflow": false,
       "plotOptions": {
        "customPlotOptions": {},
        "displayType": "table",
        "pivotAggregation": null,
        "pivotColumns": null,
        "xColumns": null,
        "yColumns": null
       },
       "removedWidgets": [],
       "schema": [
        {
         "metadata": "{}",
         "name": "empid",
         "type": "\"integer\""
        },
        {
         "metadata": "{}",
         "name": "employee_name",
         "type": "\"string\""
        },
        {
         "metadata": "{}",
         "name": "years_exp",
         "type": "\"integer\""
        },
        {
         "metadata": "{}",
         "name": "in_project",
         "type": "\"string\""
        },
        {
         "metadata": "{}",
         "name": "project_name",
         "type": "\"string\""
        },
        {
         "metadata": "{}",
         "name": "benchcode",
         "type": "\"string\""
        },
        {
         "metadata": "{\"__detected_date_formats\":\"d-M-yyyy\"}",
         "name": "benchdate",
         "type": "\"date\""
        },
        {
         "metadata": "{}",
         "name": "leave_plan_days",
         "type": "\"integer\""
        },
        {
         "metadata": "{}",
         "name": "salary_month",
         "type": "\"integer\""
        },
        {
         "metadata": "{}",
         "name": "certification",
         "type": "\"string\""
        },
        {
         "metadata": "{\"__detected_date_formats\":\"d-M-yyyy\"}",
         "name": "certification_completetion_date",
         "type": "\"date\""
        },
        {
         "metadata": "{}",
         "name": "certification_completed_or_not",
         "type": "\"string\""
        }
       ],
       "type": "table"
      }
     },
     "output_type": "display_data"
    }
   ],
   "source": [
    "from pyspark.sql import SparkSession\n",
    "from pyspark.sql.functions import col\n",
    "spark=SparkSession.builder.appName('bench_employee_project').getOrCreate()\n",
    "df=spark.read.csv(\"dbfs:/FileStore/bench_employees_costsavings-1.csv\",header=True,inferSchema=True)\n",
    "df.display()"
   ]
  },
  {
   "cell_type": "code",
   "execution_count": 0,
   "metadata": {
    "application/vnd.databricks.v1+cell": {
     "cellMetadata": {
      "byteLimit": 2048000,
      "rowLimit": 10000
     },
     "inputWidgets": {},
     "nuid": "ac19b7c0-5843-4073-aba6-542bd7a35d2b",
     "showTitle": false,
     "title": ""
    }
   },
   "outputs": [
    {
     "output_type": "display_data",
     "data": {
      "text/html": [
       "<style scoped>\n",
       "  .table-result-container {\n",
       "    max-height: 300px;\n",
       "    overflow: auto;\n",
       "  }\n",
       "  table, th, td {\n",
       "    border: 1px solid black;\n",
       "    border-collapse: collapse;\n",
       "  }\n",
       "  th, td {\n",
       "    padding: 5px;\n",
       "  }\n",
       "  th {\n",
       "    text-align: left;\n",
       "  }\n",
       "</style><div class='table-result-container'><table class='table-result'><thead style='background-color: white'><tr><th>empid</th><th>employee_name</th><th>years_exp</th><th>in_project</th><th>project_name</th><th>benchcode</th><th>benchdate</th><th>leave_plan_days</th><th>salary_month</th><th>certification</th><th>certification_completetion_date</th><th>certification_completed_or_not</th><th>Daily_Salary</th><th>days_difference</th><th>Bench_salary</th></tr></thead><tbody><tr><td>1</td><td>EID_22713</td><td>13</td><td>yes</td><td>apac</td><td>null</td><td>null</td><td>null</td><td>150000</td><td>null</td><td>null</td><td>null</td><td>5000.0</td><td>null</td><td>null</td></tr><tr><td>2</td><td>EID_9658</td><td>12</td><td>no</td><td>null</td><td>b1001</td><td>2023-11-01</td><td>5</td><td>200000</td><td>databricks professional</td><td>2023-11-15</td><td>yes</td><td>6666.666666666667</td><td>17</td><td>80000.0</td></tr><tr><td>3</td><td>EID_22203</td><td>13</td><td>yes</td><td>apac</td><td>null</td><td>null</td><td>null</td><td>300000</td><td>null</td><td>null</td><td>null</td><td>10000.0</td><td>null</td><td>null</td></tr><tr><td>4</td><td>EID_7652</td><td>10</td><td>yes</td><td>apac</td><td>null</td><td>null</td><td>null</td><td>120000</td><td>null</td><td>null</td><td>null</td><td>4000.0</td><td>null</td><td>null</td></tr><tr><td>5</td><td>EID_6516</td><td>9</td><td>No</td><td>null</td><td>b1001</td><td>2023-10-01</td><td>0</td><td>130000</td><td>databricks associate</td><td>2023-10-15</td><td>no</td><td>4333.333333333333</td><td>48</td><td>208000.0</td></tr><tr><td>6</td><td>EID_20283</td><td>10</td><td>yes</td><td>apac</td><td>null</td><td>null</td><td>null</td><td>150000</td><td>null</td><td>null</td><td>null</td><td>5000.0</td><td>null</td><td>null</td></tr><tr><td>7</td><td>EID_21014</td><td>8</td><td>no</td><td>null</td><td>b1001</td><td>2023-10-21</td><td>10</td><td>200000</td><td>databricks associate</td><td>2023-11-06</td><td>no</td><td>6666.666666666667</td><td>28</td><td>120000.0</td></tr><tr><td>8</td><td>EID_7693</td><td>12</td><td>yes</td><td>apac</td><td>null</td><td>null</td><td>null</td><td>300000</td><td>null</td><td>null</td><td>null</td><td>10000.0</td><td>null</td><td>null</td></tr><tr><td>9</td><td>EID_13232</td><td>18</td><td>yes</td><td>apac</td><td>null</td><td>null</td><td>null</td><td>120000</td><td>null</td><td>null</td><td>null</td><td>4000.0</td><td>null</td><td>null</td></tr><tr><td>10</td><td>EID_6515</td><td>18</td><td>No</td><td>null</td><td>b1001</td><td>2023-09-01</td><td>0</td><td>130000</td><td>databricks professional</td><td>2023-09-15</td><td>yes</td><td>4333.333333333333</td><td>78</td><td>338000.0</td></tr><tr><td>11</td><td>EID_13639</td><td>6</td><td>yes</td><td>product</td><td>null</td><td>null</td><td>null</td><td>120000</td><td>null</td><td>null</td><td>null</td><td>4000.0</td><td>null</td><td>null</td></tr><tr><td>12</td><td>EID_14669</td><td>6</td><td>no</td><td>null</td><td>b1001</td><td>2023-09-20</td><td>12</td><td>100000</td><td>azure dp203</td><td>2023-10-30</td><td>yes</td><td>3333.3333333333335</td><td>59</td><td>156666.6666666667</td></tr><tr><td>13</td><td>EID_16537</td><td>4</td><td>yes</td><td>product</td><td>null</td><td>null</td><td>null</td><td>120000</td><td>null</td><td>null</td><td>null</td><td>4000.0</td><td>null</td><td>null</td></tr><tr><td>14</td><td>EID_5782</td><td>4</td><td>yes</td><td>product</td><td>null</td><td>null</td><td>null</td><td>130000</td><td>null</td><td>null</td><td>null</td><td>4333.333333333333</td><td>null</td><td>null</td></tr><tr><td>15</td><td>EID_20157</td><td>2</td><td>No</td><td>null</td><td>b1001</td><td>2023-07-07</td><td>30</td><td>120000</td><td>dp900</td><td>2023-07-15</td><td>yes</td><td>4000.0</td><td>134</td><td>416000.0</td></tr><tr><td>16</td><td>EID_1855</td><td>5</td><td>yes</td><td>product</td><td>null</td><td>null</td><td>null</td><td>100000</td><td>null</td><td>null</td><td>null</td><td>3333.3333333333335</td><td>null</td><td>null</td></tr><tr><td>17</td><td>EID_20748</td><td>1</td><td>no</td><td>null</td><td>b1001</td><td>2023-08-15</td><td>5</td><td>150000</td><td>dp900</td><td>2023-08-22</td><td>no</td><td>5000.0</td><td>95</td><td>450000.0</td></tr><tr><td>18</td><td>EID_23179</td><td>7</td><td>yes</td><td>product</td><td>null</td><td>null</td><td>null</td><td>200000</td><td>null</td><td>null</td><td>null</td><td>6666.666666666667</td><td>null</td><td>null</td></tr><tr><td>19</td><td>EID_12838</td><td>8</td><td>yes</td><td>product</td><td>null</td><td>null</td><td>null</td><td>200000</td><td>null</td><td>null</td><td>null</td><td>6666.666666666667</td><td>null</td><td>null</td></tr></tbody></table></div>"
      ]
     },
     "metadata": {
      "application/vnd.databricks.v1+output": {
       "addedWidgets": {},
       "aggData": [],
       "aggError": "",
       "aggOverflow": false,
       "aggSchema": [],
       "aggSeriesLimitReached": false,
       "aggType": "",
       "arguments": {},
       "columnCustomDisplayInfos": {},
       "data": [
        [
         1,
         "EID_22713",
         13,
         "yes",
         "apac",
         null,
         null,
         null,
         150000,
         null,
         null,
         null,
         5000.0,
         null,
         null
        ],
        [
         2,
         "EID_9658",
         12,
         "no",
         null,
         "b1001",
         "2023-11-01",
         5,
         200000,
         "databricks professional",
         "2023-11-15",
         "yes",
         6666.666666666667,
         17,
         80000.0
        ],
        [
         3,
         "EID_22203",
         13,
         "yes",
         "apac",
         null,
         null,
         null,
         300000,
         null,
         null,
         null,
         10000.0,
         null,
         null
        ],
        [
         4,
         "EID_7652",
         10,
         "yes",
         "apac",
         null,
         null,
         null,
         120000,
         null,
         null,
         null,
         4000.0,
         null,
         null
        ],
        [
         5,
         "EID_6516",
         9,
         "No",
         null,
         "b1001",
         "2023-10-01",
         0,
         130000,
         "databricks associate",
         "2023-10-15",
         "no",
         4333.333333333333,
         48,
         208000.0
        ],
        [
         6,
         "EID_20283",
         10,
         "yes",
         "apac",
         null,
         null,
         null,
         150000,
         null,
         null,
         null,
         5000.0,
         null,
         null
        ],
        [
         7,
         "EID_21014",
         8,
         "no",
         null,
         "b1001",
         "2023-10-21",
         10,
         200000,
         "databricks associate",
         "2023-11-06",
         "no",
         6666.666666666667,
         28,
         120000.0
        ],
        [
         8,
         "EID_7693",
         12,
         "yes",
         "apac",
         null,
         null,
         null,
         300000,
         null,
         null,
         null,
         10000.0,
         null,
         null
        ],
        [
         9,
         "EID_13232",
         18,
         "yes",
         "apac",
         null,
         null,
         null,
         120000,
         null,
         null,
         null,
         4000.0,
         null,
         null
        ],
        [
         10,
         "EID_6515",
         18,
         "No",
         null,
         "b1001",
         "2023-09-01",
         0,
         130000,
         "databricks professional",
         "2023-09-15",
         "yes",
         4333.333333333333,
         78,
         338000.0
        ],
        [
         11,
         "EID_13639",
         6,
         "yes",
         "product",
         null,
         null,
         null,
         120000,
         null,
         null,
         null,
         4000.0,
         null,
         null
        ],
        [
         12,
         "EID_14669",
         6,
         "no",
         null,
         "b1001",
         "2023-09-20",
         12,
         100000,
         "azure dp203",
         "2023-10-30",
         "yes",
         3333.3333333333335,
         59,
         156666.6666666667
        ],
        [
         13,
         "EID_16537",
         4,
         "yes",
         "product",
         null,
         null,
         null,
         120000,
         null,
         null,
         null,
         4000.0,
         null,
         null
        ],
        [
         14,
         "EID_5782",
         4,
         "yes",
         "product",
         null,
         null,
         null,
         130000,
         null,
         null,
         null,
         4333.333333333333,
         null,
         null
        ],
        [
         15,
         "EID_20157",
         2,
         "No",
         null,
         "b1001",
         "2023-07-07",
         30,
         120000,
         "dp900",
         "2023-07-15",
         "yes",
         4000.0,
         134,
         416000.0
        ],
        [
         16,
         "EID_1855",
         5,
         "yes",
         "product",
         null,
         null,
         null,
         100000,
         null,
         null,
         null,
         3333.3333333333335,
         null,
         null
        ],
        [
         17,
         "EID_20748",
         1,
         "no",
         null,
         "b1001",
         "2023-08-15",
         5,
         150000,
         "dp900",
         "2023-08-22",
         "no",
         5000.0,
         95,
         450000.0
        ],
        [
         18,
         "EID_23179",
         7,
         "yes",
         "product",
         null,
         null,
         null,
         200000,
         null,
         null,
         null,
         6666.666666666667,
         null,
         null
        ],
        [
         19,
         "EID_12838",
         8,
         "yes",
         "product",
         null,
         null,
         null,
         200000,
         null,
         null,
         null,
         6666.666666666667,
         null,
         null
        ]
       ],
       "datasetInfos": [],
       "dbfsResultPath": null,
       "isJsonSchema": true,
       "metadata": {},
       "overflow": false,
       "plotOptions": {
        "customPlotOptions": {},
        "displayType": "table",
        "pivotAggregation": null,
        "pivotColumns": null,
        "xColumns": null,
        "yColumns": null
       },
       "removedWidgets": [],
       "schema": [
        {
         "metadata": "{}",
         "name": "empid",
         "type": "\"integer\""
        },
        {
         "metadata": "{}",
         "name": "employee_name",
         "type": "\"string\""
        },
        {
         "metadata": "{}",
         "name": "years_exp",
         "type": "\"integer\""
        },
        {
         "metadata": "{}",
         "name": "in_project",
         "type": "\"string\""
        },
        {
         "metadata": "{}",
         "name": "project_name",
         "type": "\"string\""
        },
        {
         "metadata": "{}",
         "name": "benchcode",
         "type": "\"string\""
        },
        {
         "metadata": "{}",
         "name": "benchdate",
         "type": "\"date\""
        },
        {
         "metadata": "{}",
         "name": "leave_plan_days",
         "type": "\"integer\""
        },
        {
         "metadata": "{}",
         "name": "salary_month",
         "type": "\"integer\""
        },
        {
         "metadata": "{}",
         "name": "certification",
         "type": "\"string\""
        },
        {
         "metadata": "{\"__detected_date_formats\":\"d-M-yyyy\"}",
         "name": "certification_completetion_date",
         "type": "\"date\""
        },
        {
         "metadata": "{}",
         "name": "certification_completed_or_not",
         "type": "\"string\""
        },
        {
         "metadata": "{}",
         "name": "Daily_Salary",
         "type": "\"double\""
        },
        {
         "metadata": "{}",
         "name": "days_difference",
         "type": "\"integer\""
        },
        {
         "metadata": "{}",
         "name": "Bench_salary",
         "type": "\"double\""
        }
       ],
       "type": "table"
      }
     },
     "output_type": "display_data"
    }
   ],
   "source": [
    "from pyspark.sql.functions import current_date, to_date, datediff,col\n",
    "\n",
    "# Calculate \"Daily_Salary\" based on \"salary_month\"\n",
    "df = df.withColumn(\"Daily_Salary\", col(\"salary_month\") / 30)\n",
    "df = df.withColumn(\"benchdate\", to_date(col(\"benchdate\")))\n",
    "df = df.withColumn(\"days_difference\", datediff(current_date(), col(\"benchdate\")))\n",
    "df = df.withColumn(\"Bench_salary\", col(\"Daily_Salary\") * (col(\"days_difference\") - col(\"leave_plan_days\")))\n",
    "\n",
    "# Display the DataFrame\n",
    "df.display()\n"
   ]
  },
  {
   "cell_type": "code",
   "execution_count": 0,
   "metadata": {
    "application/vnd.databricks.v1+cell": {
     "cellMetadata": {
      "byteLimit": 2048000,
      "rowLimit": 10000
     },
     "inputWidgets": {},
     "nuid": "e72fe322-2192-4a68-b1e4-90cf07177b5b",
     "showTitle": false,
     "title": ""
    }
   },
   "outputs": [
    {
     "output_type": "display_data",
     "data": {
      "text/html": [
       "<style scoped>\n",
       "  .table-result-container {\n",
       "    max-height: 300px;\n",
       "    overflow: auto;\n",
       "  }\n",
       "  table, th, td {\n",
       "    border: 1px solid black;\n",
       "    border-collapse: collapse;\n",
       "  }\n",
       "  th, td {\n",
       "    padding: 5px;\n",
       "  }\n",
       "  th {\n",
       "    text-align: left;\n",
       "  }\n",
       "</style><div class='table-result-container'><table class='table-result'><thead style='background-color: white'><tr><th>empid</th><th>employee_name</th><th>years_exp</th><th>in_project</th><th>project_name</th><th>benchcode</th><th>benchdate</th><th>leave_plan_days</th><th>salary_month</th><th>certification</th><th>certification_completetion_date</th><th>certification_completed_or_not</th><th>Daily_Salary</th><th>days_difference</th><th>Bench_salary</th></tr></thead><tbody><tr><td>15</td><td>EID_20157</td><td>2</td><td>No</td><td>null</td><td>b1001</td><td>2023-07-07</td><td>30</td><td>120000</td><td>dp900</td><td>2023-07-15</td><td>yes</td><td>4000.0</td><td>134</td><td>416000.0</td></tr><tr><td>17</td><td>EID_20748</td><td>1</td><td>no</td><td>null</td><td>b1001</td><td>2023-08-15</td><td>5</td><td>150000</td><td>dp900</td><td>2023-08-22</td><td>no</td><td>5000.0</td><td>95</td><td>450000.0</td></tr></tbody></table></div>"
      ]
     },
     "metadata": {
      "application/vnd.databricks.v1+output": {
       "addedWidgets": {},
       "aggData": [],
       "aggError": "",
       "aggOverflow": false,
       "aggSchema": [],
       "aggSeriesLimitReached": false,
       "aggType": "",
       "arguments": {},
       "columnCustomDisplayInfos": {},
       "data": [
        [
         15,
         "EID_20157",
         2,
         "No",
         null,
         "b1001",
         "2023-07-07",
         30,
         120000,
         "dp900",
         "2023-07-15",
         "yes",
         4000.0,
         134,
         416000.0
        ],
        [
         17,
         "EID_20748",
         1,
         "no",
         null,
         "b1001",
         "2023-08-15",
         5,
         150000,
         "dp900",
         "2023-08-22",
         "no",
         5000.0,
         95,
         450000.0
        ]
       ],
       "datasetInfos": [],
       "dbfsResultPath": null,
       "isJsonSchema": true,
       "metadata": {},
       "overflow": false,
       "plotOptions": {
        "customPlotOptions": {},
        "displayType": "table",
        "pivotAggregation": null,
        "pivotColumns": null,
        "xColumns": null,
        "yColumns": null
       },
       "removedWidgets": [],
       "schema": [
        {
         "metadata": "{}",
         "name": "empid",
         "type": "\"integer\""
        },
        {
         "metadata": "{}",
         "name": "employee_name",
         "type": "\"string\""
        },
        {
         "metadata": "{}",
         "name": "years_exp",
         "type": "\"integer\""
        },
        {
         "metadata": "{}",
         "name": "in_project",
         "type": "\"string\""
        },
        {
         "metadata": "{}",
         "name": "project_name",
         "type": "\"string\""
        },
        {
         "metadata": "{}",
         "name": "benchcode",
         "type": "\"string\""
        },
        {
         "metadata": "{}",
         "name": "benchdate",
         "type": "\"date\""
        },
        {
         "metadata": "{}",
         "name": "leave_plan_days",
         "type": "\"integer\""
        },
        {
         "metadata": "{}",
         "name": "salary_month",
         "type": "\"integer\""
        },
        {
         "metadata": "{}",
         "name": "certification",
         "type": "\"string\""
        },
        {
         "metadata": "{\"__detected_date_formats\":\"d-M-yyyy\"}",
         "name": "certification_completetion_date",
         "type": "\"date\""
        },
        {
         "metadata": "{}",
         "name": "certification_completed_or_not",
         "type": "\"string\""
        },
        {
         "metadata": "{}",
         "name": "Daily_Salary",
         "type": "\"double\""
        },
        {
         "metadata": "{}",
         "name": "days_difference",
         "type": "\"integer\""
        },
        {
         "metadata": "{}",
         "name": "Bench_salary",
         "type": "\"double\""
        }
       ],
       "type": "table"
      }
     },
     "output_type": "display_data"
    }
   ],
   "source": [
    "\n",
    "# Filter the DataFrame for \"bench_salary\" greater than 400000\n",
    "filtered_df = df.filter(col(\"Bench_salary\") > 400000)\n",
    "\n",
    "filtered_df.display()"
   ]
  },
  {
   "cell_type": "code",
   "execution_count": 0,
   "metadata": {
    "application/vnd.databricks.v1+cell": {
     "cellMetadata": {},
     "inputWidgets": {},
     "nuid": "f58570d7-0038-4371-a524-ed305f368d6e",
     "showTitle": false,
     "title": ""
    }
   },
   "outputs": [],
   "source": []
  },
  {
   "cell_type": "code",
   "execution_count": 0,
   "metadata": {
    "application/vnd.databricks.v1+cell": {
     "cellMetadata": {},
     "inputWidgets": {},
     "nuid": "f9de295d-dabe-4cb0-bd27-e48fb3f0382a",
     "showTitle": false,
     "title": ""
    }
   },
   "outputs": [],
   "source": [
    "#email alert in databricks Notebook\n",
    "\n",
    "import smtplib\n",
    "from email.mime.text import MIMEText\n",
    "\n",
    "def send_email(subject, body, to_email, smtp_server, smtp_port, smtp_username, smtp_password):\n",
    "    # Set up the email content\n",
    "    message = MIMEText(body)\n",
    "    message[\"Subject\"] = subject\n",
    "    message[\"From\"] = smtp_username\n",
    "    message[\"To\"] = to_email\n",
    "\n",
    "    # Connect to the SMTP server\n",
    "    with smtplib.SMTP(smtp_server, smtp_port) as server:\n",
    "        # Log in to the SMTP server if username and password are provided\n",
    "        if smtp_username and smtp_password:\n",
    "            server.login(smtp_username, smtp_password)\n",
    "\n",
    "        # Send the email\n",
    "        server.sendmail(smtp_username, to_email, message.as_string())\n",
    "\n",
    "# Set your email configuration\n",
    "subject = \"Databricks Alert\"\n",
    "body = \"This is a test email from Databricks notebook.\"\n",
    "to_email = \"recipient@example.com\"\n",
    "smtp_server = \"your_smtp_server\"\n",
    "smtp_port = 587  # Use the appropriate port for your SMTP server\n",
    "smtp_username = \"your_email@example.com\"\n",
    "smtp_password = \"your_email_password\"\n",
    "\n",
    "# Send the email\n",
    "send_email(subject, body, to_email, smtp_server, smtp_port, smtp_username, smtp_password)\n"
   ]
  }
 ],
 "metadata": {
  "application/vnd.databricks.v1+notebook": {
   "dashboards": [
    {
     "elements": [
      {
       "dashboardResultIndex": 0,
       "elementNUID": "e72fe322-2192-4a68-b1e4-90cf07177b5b",
       "elementType": "command",
       "guid": "70368c94-abcf-4932-8c13-71cf6e5e15e3",
       "options": null,
       "position": {
        "height": 6,
        "width": 12,
        "x": 0,
        "y": 0,
        "z": null
       },
       "resultIndex": null
      }
     ],
     "globalVars": {},
     "guid": "",
     "layoutOption": {
      "grid": true,
      "stack": false
     },
     "nuid": "b50812a6-6bb9-4fa4-82e5-5be0e94198be",
     "origId": 4118142489986914,
     "title": "Untitled",
     "version": "DashboardViewV1",
     "width": 1024
    }
   ],
   "language": "python",
   "notebookMetadata": {
    "pythonIndentUnit": 4
   },
   "notebookName": "Databricks_project",
   "widgets": {}
  }
 },
 "nbformat": 4,
 "nbformat_minor": 0
}
